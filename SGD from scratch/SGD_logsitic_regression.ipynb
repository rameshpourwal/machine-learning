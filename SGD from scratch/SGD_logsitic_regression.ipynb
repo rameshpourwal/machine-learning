{
 "cells": [
  {
   "cell_type": "code",
   "execution_count": 103,
   "metadata": {},
   "outputs": [],
   "source": [
    "import math\n",
    "\n",
    "import matplotlib.pyplot as plt\n",
    "import numpy as np\n",
    "import pandas as pd\n",
    "from sklearn.datasets import make_classification\n",
    "from sklearn.model_selection import train_test_split"
   ]
  },
  {
   "cell_type": "markdown",
   "metadata": {},
   "source": [
    "# Prepare the data"
   ]
  },
  {
   "cell_type": "code",
   "execution_count": 104,
   "metadata": {},
   "outputs": [],
   "source": [
    "X, Y = make_classification(n_samples=50000,\n",
    "                           n_features=15,\n",
    "                           n_informative=10,\n",
    "                           n_redundant=5,\n",
    "                           n_classes=2,\n",
    "                           weights=[0.7],\n",
    "                           class_sep=0.7,\n",
    "                           random_state=15)"
   ]
  },
  {
   "cell_type": "markdown",
   "metadata": {},
   "source": [
    "# Split the data"
   ]
  },
  {
   "cell_type": "code",
   "execution_count": 105,
   "metadata": {},
   "outputs": [],
   "source": [
    "X_train, X_test, Y_train, Y_test = train_test_split(X,\n",
    "                                                    Y,\n",
    "                                                    test_size=0.25,\n",
    "                                                    random_state=15)"
   ]
  },
  {
   "cell_type": "markdown",
   "metadata": {},
   "source": [
    "# Calculate the Sigmoid"
   ]
  },
  {
   "cell_type": "code",
   "execution_count": 106,
   "metadata": {},
   "outputs": [],
   "source": [
    "#parameterised method with \n",
    "#x:- input data \n",
    "#thetha is the lsit of intercept and weights\n",
    "def sigmoid_fun(x, thetha):\n",
    "    z = np.dot(x, thetha[1:]) + thetha[0]\n",
    "    return 1 / (1 + np.exp(-z))"
   ]
  },
  {
   "cell_type": "markdown",
   "metadata": {},
   "source": [
    "# Loss Function"
   ]
  },
  {
   "cell_type": "code",
   "execution_count": 135,
   "metadata": {},
   "outputs": [],
   "source": [
    "#y- actual value\n",
    "# yhat -predicted value\n",
    "def loss_fun(y, yhat,lambda_val,weights):\n",
    "    \n",
    "    return (-(y.dot(np.log(yhat))) - ((1 - y).dot(np.log(1 - yhat))))/len(y)+((lambda_val/2)*weights**2)\n",
    "\n"
   ]
  },
  {
   "cell_type": "code",
   "execution_count": 136,
   "metadata": {},
   "outputs": [],
   "source": [
    "def next_batch(x, y, batchSize):\n",
    "\n",
    "    for i in np.arange(0, x.shape[0], batchSize):\n",
    "\n",
    "        yield (x[i:i + batchSize], y[i:i + batchSize])"
   ]
  },
  {
   "cell_type": "markdown",
   "metadata": {},
   "source": [
    "# Calculate the Gradient"
   ]
  },
  {
   "cell_type": "code",
   "execution_count": 137,
   "metadata": {},
   "outputs": [],
   "source": [
    "import collections\n",
    "\n",
    "\n",
    "#iterations: - number of epoc\n",
    "def gradient(x, y, alpha, thetha, epocs, batchSize, lambda_val):\n",
    "\n",
    "    loss__ = []\n",
    "    intercept_points = []\n",
    "\n",
    "    prevoiuse_loss = []\n",
    "    weights = []\n",
    "\n",
    "    for epoc in range(epocs):\n",
    "        epochLoss = []\n",
    "        epoc_thetha = []\n",
    "        for (btachX, batchY) in next_batch(x, y, batchSize):\n",
    "\n",
    "            yhat = sigmoid_fun(btachX, thetha)\n",
    "\n",
    "            error = yhat - batchY\n",
    "\n",
    "            grad_ = btachX.T.dot(error) / btachX.shape[0]\n",
    "            thetha[0] = thetha[0] - alpha * error.sum()\n",
    "            thetha[1:] = thetha[1:] - alpha * grad_\n",
    "            res = theta\n",
    "            epoc_thetha.append(np.array(res))\n",
    "            loss = loss_fun(batchY, yhat, lambda_val, thetha[1:])\n",
    "\n",
    "            epochLoss.append(loss)\n",
    "\n",
    "        loss__.append((np.average(epochLoss)))\n",
    "\n",
    "        weights.append(np.array(epoc_thetha))\n",
    "\n",
    "        if collections.Counter(loss__) == collections.Counter(prevoiuse_loss):\n",
    "            print(\"Weight isn't updated at epoc \", epoc)\n",
    "            break\n",
    "\n",
    "        prevoiuse_loss.append((np.average(epochLoss)))\n",
    "        intercept_points.append(thetha[0])\n",
    "\n",
    "    return loss__, intercept_points, weights"
   ]
  },
  {
   "cell_type": "markdown",
   "metadata": {},
   "source": [
    "# Training data output"
   ]
  },
  {
   "cell_type": "code",
   "execution_count": 197,
   "metadata": {},
   "outputs": [],
   "source": [
    "import random\n",
    "m, n = X.shape\n",
    "theta = np.zeros(1 + n)\n",
    "batch_size = 1\n",
    "\n",
    "alpha = 0.0001\n",
    "num_iter = 20\n",
    "lambda_value = .0001\n",
    "train_loss, intercepts_points, weights = gradient(\n",
    "    X_train, Y_train, alpha, theta, num_iter, batch_size, lambda_value)"
   ]
  },
  {
   "cell_type": "code",
   "execution_count": 198,
   "metadata": {},
   "outputs": [],
   "source": [
    "def classifier(x, y, weights, batchSize):\n",
    "    train_loss = []\n",
    "    for weight in weights:\n",
    "        loss_ = []\n",
    "        cnt = 0\n",
    "        for (btachX, batchY) in next_batch(x, y, batchSize):\n",
    "\n",
    "            yhat_ = sigmoid_fun(btachX, weight[cnt])\n",
    "            predict = (yhat_ >= 0.5).astype('int')\n",
    "\n",
    "            loss = loss_fun(batchY, yhat_, lambda_value, weight[cnt])\n",
    "            loss_.append((loss))\n",
    "            cnt += 1\n",
    "        train_loss.append(np.average(loss_))\n",
    "    return train_loss"
   ]
  },
  {
   "cell_type": "code",
   "execution_count": 199,
   "metadata": {},
   "outputs": [],
   "source": [
    "test_loss = classifier(X_test, Y_test, weights, batch_size)"
   ]
  },
  {
   "cell_type": "code",
   "execution_count": 200,
   "metadata": {},
   "outputs": [],
   "source": [
    "training_loss_ = classifier(X_train, Y_train, weights, batch_size)"
   ]
  },
  {
   "cell_type": "markdown",
   "metadata": {},
   "source": [
    "# Plotting the curve"
   ]
  },
  {
   "cell_type": "code",
   "execution_count": 201,
   "metadata": {},
   "outputs": [],
   "source": [
    "def plot_curve(training_loss, test_loss, epoc):\n",
    "\n",
    "    plt.plot(np.arange(0, epoc),\n",
    "             training_loss,\n",
    "             color='orange',\n",
    "             label='training curve')\n",
    "    plt.plot(np.arange(0, epoc), test_loss, color='blue', label='test curve')\n",
    "\n",
    "    plt.xlabel('Epoc')\n",
    "    plt.ylabel('Loss')\n",
    "    plt.title('Loss v/s Epoc Curve')\n",
    "    plt.legend()\n",
    "    plt.show()"
   ]
  },
  {
   "cell_type": "code",
   "execution_count": 202,
   "metadata": {},
   "outputs": [
    {
     "name": "stdout",
     "output_type": "stream",
     "text": [
      "\n",
      " Logisitc Regression bias(intercept) term : -0.8897519363646536\n",
      "\n",
      " Logisitc Regression estimated coefficients : [-4.29394720e-01  1.92911534e-01 -1.48319231e-01  3.38095816e-01\n",
      " -2.20731195e-01  5.69669874e-01 -4.45186061e-01 -9.00099239e-02\n",
      "  2.21598222e-01  1.73588007e-01  1.98538394e-01 -4.13171975e-04\n",
      " -8.11250058e-02  3.39070549e-01  2.29369065e-02]\n",
      "\n",
      " Logisitc Regression estimated intial loss 0.4546059865680958 and intial intercept -0.3151254707872083 for training data\n",
      "\n",
      " Logisitc Regression estimated intial loss 0.5252448503390084 and intial intercept -0.3151254707872083 for test data\n"
     ]
    }
   ],
   "source": [
    "print('\\n Logisitc Regression bias(intercept) term :',\n",
    "      theta[0])\n",
    "print('\\n Logisitc Regression estimated coefficients :',\n",
    "      theta[1:])\n",
    "print(\n",
    "    '\\n Logisitc Regression estimated intial loss {} and intial intercept {} for training data'\n",
    "    .format(training_loss_[0], intercepts_points[0]))\n",
    "print(\n",
    "    '\\n Logisitc Regression estimated intial loss {} and intial intercept {} for test data'\n",
    "    .format(test_loss[0], intercepts_points[0]))"
   ]
  },
  {
   "cell_type": "code",
   "execution_count": 203,
   "metadata": {},
   "outputs": [
    {
     "data": {
      "image/png": "[encoded data removed]",
      "text/plain": [
       "<Figure size 432x288 with 1 Axes>"
      ]
     },
     "metadata": {
      "needs_background": "light"
     },
     "output_type": "display_data"
    }
   ],
   "source": [
    "plot_curve(training_loss_,test_loss,num_iter)"
   ]
  },
  {
   "cell_type": "markdown",
   "metadata": {},
   "source": [
    "# SGDCLASSIFIER USING SKLEARN"
   ]
  },
  {
   "cell_type": "code",
   "execution_count": 204,
   "metadata": {},
   "outputs": [
    {
     "name": "stdout",
     "output_type": "stream",
     "text": [
      "-- Epoch 1\n",
      "Norm: 0.77, NNZs: 15, Bias: -0.316653, T: 37500, Avg. loss: 0.455552\n",
      "Total training time: 0.02 seconds.\n",
      "-- Epoch 2\n",
      "Norm: 0.91, NNZs: 15, Bias: -0.472747, T: 75000, Avg. loss: 0.394686\n",
      "Total training time: 0.03 seconds.\n",
      "-- Epoch 3\n",
      "Norm: 0.98, NNZs: 15, Bias: -0.580082, T: 112500, Avg. loss: 0.385711\n",
      "Total training time: 0.07 seconds.\n",
      "-- Epoch 4\n",
      "Norm: 1.02, NNZs: 15, Bias: -0.658292, T: 150000, Avg. loss: 0.382083\n",
      "Total training time: 0.09 seconds.\n",
      "-- Epoch 5\n",
      "Norm: 1.04, NNZs: 15, Bias: -0.719528, T: 187500, Avg. loss: 0.380486\n",
      "Total training time: 0.10 seconds.\n",
      "-- Epoch 6\n",
      "Norm: 1.05, NNZs: 15, Bias: -0.763409, T: 225000, Avg. loss: 0.379578\n",
      "Total training time: 0.11 seconds.\n",
      "-- Epoch 7\n",
      "Norm: 1.06, NNZs: 15, Bias: -0.795106, T: 262500, Avg. loss: 0.379150\n",
      "Total training time: 0.13 seconds.\n",
      "-- Epoch 8\n",
      "Norm: 1.06, NNZs: 15, Bias: -0.819925, T: 300000, Avg. loss: 0.378856\n",
      "Total training time: 0.13 seconds.\n",
      "-- Epoch 9\n",
      "Norm: 1.07, NNZs: 15, Bias: -0.837805, T: 337500, Avg. loss: 0.378585\n",
      "Total training time: 0.14 seconds.\n",
      "-- Epoch 10\n",
      "Norm: 1.08, NNZs: 15, Bias: -0.853138, T: 375000, Avg. loss: 0.378630\n",
      "Total training time: 0.16 seconds.\n",
      "Convergence after 10 epochs took 0.16 seconds\n"
     ]
    },
    {
     "data": {
      "text/plain": [
       "SGDClassifier(alpha=0.0001, average=False, class_weight=None,\n",
       "              early_stopping=False, epsilon=0.1, eta0=0.0001,\n",
       "              fit_intercept=True, l1_ratio=0.15, learning_rate='constant',\n",
       "              loss='log', max_iter=20, n_iter_no_change=5, n_jobs=None,\n",
       "              penalty='l2', power_t=0.5, random_state=15, shuffle=True,\n",
       "              tol=0.001, validation_fraction=0.1, verbose=2, warm_start=False)"
      ]
     },
     "execution_count": 204,
     "metadata": {},
     "output_type": "execute_result"
    }
   ],
   "source": [
    "from sklearn import linear_model\n",
    "clf = linear_model.SGDClassifier(eta0=.0001, alpha=0.0001, loss='log', random_state=15, penalty='l2', tol=1e-3, verbose=2, learning_rate='constant',max_iter=20)\n",
    "clf.fit(X_train,Y_train)"
   ]
  },
  {
   "cell_type": "code",
   "execution_count": 205,
   "metadata": {},
   "outputs": [],
   "source": [
    "weights_=clf.coef_,  \n",
    "intercept_=clf.intercept_"
   ]
  },
  {
   "cell_type": "code",
   "execution_count": 213,
   "metadata": {},
   "outputs": [
    {
     "name": "stdout",
     "output_type": "stream",
     "text": [
      "difference between the intercept\n",
      "  [0.03661364]\n"
     ]
    }
   ],
   "source": [
    "print('difference between the intercept\\n ' , intercept_-theta[0])"
   ]
  },
  {
   "cell_type": "code",
   "execution_count": 196,
   "metadata": {},
   "outputs": [
    {
     "name": "stdout",
     "output_type": "stream",
     "text": [
      "differnce between weights \n",
      " [[[ 0.0060278  -0.00743588 -0.00027113  0.00334825  0.01254449\n",
      "   -0.00950409 -0.00723876 -0.0040782  -0.01232502  0.00725325\n",
      "   -0.00148649  0.00463233  0.00152131 -0.00054253 -0.0002697 ]]]\n"
     ]
    }
   ],
   "source": [
    "print('differnce between weights \\n', weights_-theta[1:])"
   ]
  }
 ],
 "metadata": {
  "kernelspec": {
   "display_name": "Python 3",
   "language": "python",
   "name": "python3"
  },
  "language_info": {
   "codemirror_mode": {
    "name": "ipython",
    "version": 3
   },
   "file_extension": ".py",
   "mimetype": "text/x-python",
   "name": "python",
   "nbconvert_exporter": "python",
   "pygments_lexer": "ipython3",
   "version": "3.6.8"
  },
  "varInspector": {
   "cols": {
    "lenName": 16,
    "lenType": 16,
    "lenVar": 40
   },
   "kernels_config": {
    "python": {
     "delete_cmd_postfix": "",
     "delete_cmd_prefix": "del ",
     "library": "var_list.py",
     "varRefreshCmd": "print(var_dic_list())"
    },
    "r": {
     "delete_cmd_postfix": ") ",
     "delete_cmd_prefix": "rm(",
     "library": "var_list.r",
     "varRefreshCmd": "cat(var_dic_list()) "
    }
   },
   "types_to_exclude": [
    "module",
    "function",
    "builtin_function_or_method",
    "instance",
    "_Feature"
   ],
   "window_display": false
  }
 },
 "nbformat": 4,
 "nbformat_minor": 2
}
