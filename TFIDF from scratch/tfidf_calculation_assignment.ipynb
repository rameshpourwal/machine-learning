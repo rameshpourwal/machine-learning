{
 "cells": [
  {
   "cell_type": "code",
   "execution_count": 128,
   "metadata": {},
   "outputs": [],
   "source": [
    "corpus = [\n",
    "    'this is the first document', 'this document is the second document',\n",
    "    'and this is the third one', 'is this the first document'\n",
    "]"
   ]
  },
  {
   "cell_type": "code",
   "execution_count": 129,
   "metadata": {},
   "outputs": [],
   "source": [
    "from collections import Counter\n",
    "import csv\n",
    "import math\n",
    "import ast\n",
    "import numpy as np\n",
    "from sklearn.preprocessing import normalize\n",
    "from scipy.sparse import csr_matrix\n",
    "from scipy.sparse import csr_matrix"
   ]
  },
  {
   "cell_type": "code",
   "execution_count": 130,
   "metadata": {},
   "outputs": [],
   "source": [
    "def uniqueWords(corpus):\n",
    "    string = ' '.join(map(str, corpus))\n",
    "    data_frame = string.split(' ')\n",
    "    uniquewords = set(data_frame)\n",
    "    return uniquewords"
   ]
  },
  {
   "cell_type": "code",
   "execution_count": 131,
   "metadata": {},
   "outputs": [],
   "source": [
    "def numberOfWords(para, corpus):\n",
    "    numWord = dict.fromkeys(uniqueWords(corpus), 0)\n",
    "    para_list = para.split(' ')\n",
    "    for word in para_list:\n",
    "\n",
    "        numWord[word] += 1\n",
    "    tup = sorted(numWord.items(), key=lambda kv: [kv[0], kv[1]])\n",
    "    return dict(tup)"
   ]
  },
  {
   "cell_type": "code",
   "execution_count": 132,
   "metadata": {},
   "outputs": [],
   "source": [
    "def writeCSV(fileName):\n",
    "    myFile = open(fileName, 'w')\n",
    "    with myFile:\n",
    "        writer = csv.writer(myFile)\n",
    "\n",
    "\n",
    "def updateCSV(fileName, data_list):\n",
    "    with open(fileName, 'a') as fd:\n",
    "        writer = csv.writer(fd)\n",
    "        writer.writerow(data_list)"
   ]
  },
  {
   "cell_type": "code",
   "execution_count": 151,
   "metadata": {},
   "outputs": [],
   "source": [
    "IDFfile = 'idf_csv.csv'\n",
    "\n",
    "\n",
    "def computeIDF(corpus, isTopNIDF):\n",
    "    writeCSV(IDFfile)\n",
    "    N = len(corpus)\n",
    "    idfDict = {}\n",
    "    words = []\n",
    "    for paragraph in corpus:\n",
    "        para = paragraph.split(' ')\n",
    "\n",
    "        set_para = set(para)\n",
    "\n",
    "        for word in set_para:\n",
    "            words.append(word)\n",
    "\n",
    "    word_count = Counter(words)\n",
    "\n",
    "\n",
    "    for word, val in word_count.items():\n",
    "\n",
    "        idfDict[word] = 1 + (math.log((1 + N) / (1 + float(val))))\n",
    "\n",
    "    if (isTopNIDF):\n",
    "        dec_sorted = sorted(idfDict.items(),\n",
    "                            key=lambda kv: [kv[1], kv[0]],\n",
    "                            reverse=True)\n",
    "\n",
    "        top_idfc = dec_sorted[0:50]\n",
    "\n",
    "        idfc_val = [lis[1] for lis in top_idfc]\n",
    "\n",
    "        idfc_words = [lis[0] for lis in top_idfc]\n",
    "\n",
    "        topIDFC = dict(zip(idfc_words, idfc_val))\n",
    "\n",
    "    else:\n",
    "        topIDFC = idfDict\n",
    "\n",
    "    updateCSV(IDFfile, [topIDFC])"
   ]
  },
  {
   "cell_type": "code",
   "execution_count": 152,
   "metadata": {},
   "outputs": [],
   "source": [
    "TFfile = 'tf_csv.csv'\n",
    "\n",
    "\n",
    "def computeTF(corpus, unique_set_words):\n",
    "    writeCSV(TFfile)\n",
    "    tfDict = {}\n",
    "    for para in corpus:\n",
    "        wordDict = numberOfWords(para, corpus)\n",
    "        para_list = para.split(' ')\n",
    "        para_len = len(para_list)\n",
    "        for word, count in wordDict.items():\n",
    "\n",
    "            if (word in unique_set_words):\n",
    "                tfDict[word] = count / float(para_len)\n",
    "\n",
    "        updateCSV(TFfile, [tfDict])"
   ]
  },
  {
   "cell_type": "code",
   "execution_count": 153,
   "metadata": {},
   "outputs": [],
   "source": [
    "TFIDFfile = 'tfidf_csv.csv'\n",
    "\n",
    "\n",
    "def computeTFIDF(tfFile, idFile):\n",
    "    writeCSV(TFIDFfile)\n",
    "    idf = {}\n",
    "    tfidf = {}\n",
    "\n",
    "    with open(idFile, 'r') as file:\n",
    "        reader = csv.reader(file)\n",
    "        for row in reader:\n",
    "            if (len(row) != 0):\n",
    "                val = row[0]\n",
    "                idf = ast.literal_eval(val)\n",
    "    print('unique words with idf score \\n ')\n",
    "\n",
    "    for key, value in idf.items():\n",
    "        print(key, '\\t\\t', value)\n",
    "    print('*' * 100)\n",
    "\n",
    "    with open(TFfile, 'r') as file:\n",
    "        reader = csv.reader(file)\n",
    "        for row in reader:\n",
    "            if (len(row) != 0):\n",
    "                val = row[0]\n",
    "                tf_val = ast.literal_eval(val)\n",
    "                for word, val in tf_val.items():\n",
    "                    if word in idf:\n",
    "\n",
    "                        tfidf[word] = val * idf[word]\n",
    "                updateCSV(TFIDFfile, [tfidf])"
   ]
  },
  {
   "cell_type": "code",
   "execution_count": 154,
   "metadata": {},
   "outputs": [],
   "source": [
    "def transform(data_corpus, isTopNIDFC, uniqueSetWords):\n",
    "    computeIDF(data_corpus, isTopNIDFC)\n",
    "    computeTF(data_corpus, uniqueSetWords)\n",
    "    computeTFIDF(TFfile, IDFfile)"
   ]
  },
  {
   "cell_type": "code",
   "execution_count": 155,
   "metadata": {},
   "outputs": [],
   "source": [
    "def createMatrix(tfidf_file):\n",
    "    a = []\n",
    "    with open(tfidf_file, 'r') as file:\n",
    "        reader = csv.reader(file)\n",
    "        for row in reader:\n",
    "            if (len(row) != 0):\n",
    "                val = row[0]\n",
    "                idf = ast.literal_eval(val)\n",
    "                a.append(list(idf.values()))\n",
    "\n",
    "    matrix = np.array(a)\n",
    "    return matrix"
   ]
  },
  {
   "cell_type": "code",
   "execution_count": 156,
   "metadata": {},
   "outputs": [],
   "source": [
    "def createCSRMatrix(tfidf_file):\n",
    "    matrix = createMatrix(tfidf_file)\n",
    "\n",
    "    noramlized_matrix = normalize(matrix, axis=1, norm='l2')\n",
    "\n",
    "    csrMatrix = csr_matrix(noramlized_matrix)\n",
    "    print('csr matrix')\n",
    "    print(csrMatrix)\n",
    "    print('*'*100)\n",
    "    denseMatrix = csrMatrix.todense()\n",
    "    return denseMatrix"
   ]
  },
  {
   "cell_type": "code",
   "execution_count": 157,
   "metadata": {},
   "outputs": [],
   "source": [
    "def fit(tfidf_file):\n",
    "    dense = createCSRMatrix(tfidf_file)\n",
    "    print('dense matrix')\n",
    "    print(dense)"
   ]
  },
  {
   "cell_type": "code",
   "execution_count": 158,
   "metadata": {},
   "outputs": [
    {
     "name": "stdout",
     "output_type": "stream",
     "text": [
      "unique words with idf score \n",
      " \n",
      "is \t\t 1.0\n",
      "this \t\t 1.0\n",
      "document \t\t 1.2231435513142097\n",
      "the \t\t 1.0\n",
      "first \t\t 1.5108256237659907\n",
      "second \t\t 1.916290731874155\n",
      "third \t\t 1.916290731874155\n",
      "and \t\t 1.916290731874155\n",
      "one \t\t 1.916290731874155\n",
      "****************************************************************************************************\n",
      "csr matrix\n",
      "  (0, 1)\t0.4697913855799205\n",
      "  (0, 2)\t0.580285823684436\n",
      "  (0, 3)\t0.3840852409148149\n",
      "  (0, 6)\t0.3840852409148149\n",
      "  (0, 8)\t0.3840852409148149\n",
      "  (1, 1)\t0.6876235979836937\n",
      "  (1, 3)\t0.2810886740337529\n",
      "  (1, 5)\t0.5386476208856762\n",
      "  (1, 6)\t0.2810886740337529\n",
      "  (1, 8)\t0.2810886740337529\n",
      "  (2, 0)\t0.511848512707169\n",
      "  (2, 3)\t0.267103787642168\n",
      "  (2, 4)\t0.511848512707169\n",
      "  (2, 6)\t0.267103787642168\n",
      "  (2, 7)\t0.511848512707169\n",
      "  (2, 8)\t0.267103787642168\n",
      "  (3, 1)\t0.4697913855799205\n",
      "  (3, 2)\t0.580285823684436\n",
      "  (3, 3)\t0.3840852409148149\n",
      "  (3, 6)\t0.3840852409148149\n",
      "  (3, 8)\t0.3840852409148149\n",
      "****************************************************************************************************\n",
      "dense matrix\n",
      "[[0.         0.46979139 0.58028582 0.38408524 0.         0.\n",
      "  0.38408524 0.         0.38408524]\n",
      " [0.         0.6876236  0.         0.28108867 0.         0.53864762\n",
      "  0.28108867 0.         0.28108867]\n",
      " [0.51184851 0.         0.         0.26710379 0.51184851 0.\n",
      "  0.26710379 0.51184851 0.26710379]\n",
      " [0.         0.46979139 0.58028582 0.38408524 0.         0.\n",
      "  0.38408524 0.         0.38408524]]\n"
     ]
    }
   ],
   "source": [
    "transform(corpus, False, uniqueWords(corpus))\n",
    "fit(TFIDFfile)\n"
   ]
  },
  {
   "cell_type": "code",
   "execution_count": 159,
   "metadata": {},
   "outputs": [
    {
     "name": "stdout",
     "output_type": "stream",
     "text": [
      "Number of documents in corpus =  746\n"
     ]
    }
   ],
   "source": [
    "import pickle\n",
    "with open('cleaned_strings', 'rb') as f:\n",
    "    file_corpus = pickle.load(f)\n",
    "    \n",
    "\n",
    "print(\"Number of documents in corpus = \",len(file_corpus))"
   ]
  },
  {
   "cell_type": "code",
   "execution_count": 160,
   "metadata": {},
   "outputs": [
    {
     "name": "stdout",
     "output_type": "stream",
     "text": [
      "unique words with idf score \n",
      " \n",
      "zombiez \t\t 6.922918004572872\n",
      "zillion \t\t 6.922918004572872\n",
      "z \t\t 6.922918004572872\n",
      "yun \t\t 6.922918004572872\n",
      "youtube \t\t 6.922918004572872\n",
      "youthful \t\t 6.922918004572872\n",
      "younger \t\t 6.922918004572872\n",
      "yelps \t\t 6.922918004572872\n",
      "yawn \t\t 6.922918004572872\n",
      "yardley \t\t 6.922918004572872\n",
      "x \t\t 6.922918004572872\n",
      "wrote \t\t 6.922918004572872\n",
      "writers \t\t 6.922918004572872\n",
      "wrap \t\t 6.922918004572872\n",
      "wow \t\t 6.922918004572872\n",
      "woven \t\t 6.922918004572872\n",
      "wouldnt \t\t 6.922918004572872\n",
      "worthy \t\t 6.922918004572872\n",
      "worthwhile \t\t 6.922918004572872\n",
      "worthless \t\t 6.922918004572872\n",
      "worry \t\t 6.922918004572872\n",
      "worked \t\t 6.922918004572872\n",
      "woo \t\t 6.922918004572872\n",
      "wont \t\t 6.922918004572872\n",
      "wong \t\t 6.922918004572872\n",
      "wondered \t\t 6.922918004572872\n",
      "woa \t\t 6.922918004572872\n",
      "witticisms \t\t 6.922918004572872\n",
      "within \t\t 6.922918004572872\n",
      "wise \t\t 6.922918004572872\n",
      "win \t\t 6.922918004572872\n",
      "wily \t\t 6.922918004572872\n",
      "willie \t\t 6.922918004572872\n",
      "william \t\t 6.922918004572872\n",
      "wild \t\t 6.922918004572872\n",
      "wih \t\t 6.922918004572872\n",
      "wife \t\t 6.922918004572872\n",
      "widmark \t\t 6.922918004572872\n",
      "wide \t\t 6.922918004572872\n",
      "whoever \t\t 6.922918004572872\n",
      "whites \t\t 6.922918004572872\n",
      "whine \t\t 6.922918004572872\n",
      "whenever \t\t 6.922918004572872\n",
      "went \t\t 6.922918004572872\n",
      "welsh \t\t 6.922918004572872\n",
      "weight \t\t 6.922918004572872\n",
      "wedding \t\t 6.922918004572872\n",
      "website \t\t 6.922918004572872\n",
      "weaving \t\t 6.922918004572872\n",
      "weariness \t\t 6.922918004572872\n",
      "****************************************************************************************************\n",
      "csr matrix\n",
      "  (19, 10)\t0.5773502691896258\n",
      "  (19, 29)\t0.5773502691896258\n",
      "  (19, 44)\t0.5773502691896258\n",
      "  (68, 13)\t1.0\n",
      "  (70, 3)\t1.0\n",
      "  (80, 8)\t1.0\n",
      "  (109, 49)\t1.0\n",
      "  (135, 0)\t0.37796447300922725\n",
      "  (135, 2)\t0.37796447300922725\n",
      "  (135, 14)\t0.37796447300922725\n",
      "  (135, 20)\t0.37796447300922725\n",
      "  (135, 22)\t0.37796447300922725\n",
      "  (135, 23)\t0.37796447300922725\n",
      "  (135, 36)\t0.37796447300922725\n",
      "  (148, 11)\t0.7071067811865476\n",
      "  (148, 41)\t0.7071067811865476\n",
      "  (155, 37)\t1.0\n",
      "  (191, 18)\t1.0\n",
      "  (222, 42)\t1.0\n",
      "  (251, 35)\t1.0\n",
      "  (270, 27)\t0.7071067811865476\n",
      "  (270, 46)\t0.7071067811865476\n",
      "  (321, 48)\t1.0\n",
      "  (323, 47)\t1.0\n",
      "  (326, 12)\t1.0\n",
      "  (337, 9)\t1.0\n",
      "  (340, 33)\t1.0\n",
      "  (341, 17)\t1.0\n",
      "  (350, 16)\t0.7071067811865476\n",
      "  (350, 25)\t0.7071067811865476\n",
      "  (361, 38)\t1.0\n",
      "  (366, 28)\t1.0\n",
      "  (378, 4)\t1.0\n",
      "  (421, 5)\t1.0\n",
      "  (452, 34)\t1.0\n",
      "  (464, 6)\t1.0\n",
      "  (495, 26)\t1.0\n",
      "  (514, 40)\t1.0\n",
      "  (518, 45)\t1.0\n",
      "  (535, 7)\t1.0\n",
      "  (555, 32)\t1.0\n",
      "  (562, 15)\t1.0\n",
      "  (633, 21)\t1.0\n",
      "  (634, 24)\t1.0\n",
      "  (644, 39)\t0.7071067811865475\n",
      "  (644, 43)\t0.7071067811865475\n",
      "  (663, 19)\t1.0\n",
      "  (680, 31)\t1.0\n",
      "  (720, 30)\t1.0\n",
      "  (734, 1)\t1.0\n",
      "****************************************************************************************************\n",
      "dense matrix\n",
      "[[0. 0. 0. ... 0. 0. 0.]\n",
      " [0. 0. 0. ... 0. 0. 0.]\n",
      " [0. 0. 0. ... 0. 0. 0.]\n",
      " ...\n",
      " [0. 0. 0. ... 0. 0. 0.]\n",
      " [0. 0. 0. ... 0. 0. 0.]\n",
      " [0. 0. 0. ... 0. 0. 0.]]\n"
     ]
    }
   ],
   "source": [
    "transform(file_corpus,True,uniqueWords(file_corpus))\n",
    "fit(TFIDFfile)"
   ]
  },
  {
   "cell_type": "code",
   "execution_count": null,
   "metadata": {},
   "outputs": [],
   "source": []
  }
 ],
 "metadata": {
  "kernelspec": {
   "display_name": "Python 3",
   "language": "python",
   "name": "python3"
  },
  "language_info": {
   "codemirror_mode": {
    "name": "ipython",
    "version": 3
   },
   "file_extension": ".py",
   "mimetype": "text/x-python",
   "name": "python",
   "nbconvert_exporter": "python",
   "pygments_lexer": "ipython3",
   "version": "3.6.8"
  },
  "varInspector": {
   "cols": {
    "lenName": 16,
    "lenType": 16,
    "lenVar": 40
   },
   "kernels_config": {
    "python": {
     "delete_cmd_postfix": "",
     "delete_cmd_prefix": "del ",
     "library": "var_list.py",
     "varRefreshCmd": "print(var_dic_list())"
    },
    "r": {
     "delete_cmd_postfix": ") ",
     "delete_cmd_prefix": "rm(",
     "library": "var_list.r",
     "varRefreshCmd": "cat(var_dic_list()) "
    }
   },
   "types_to_exclude": [
    "module",
    "function",
    "builtin_function_or_method",
    "instance",
    "_Feature"
   ],
   "window_display": false
  }
 },
 "nbformat": 4,
 "nbformat_minor": 2
}
