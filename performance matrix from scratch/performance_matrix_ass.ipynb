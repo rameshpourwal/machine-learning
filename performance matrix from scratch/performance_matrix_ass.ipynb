{
 "cells": [
  {
   "cell_type": "code",
   "execution_count": 25,
   "metadata": {},
   "outputs": [],
   "source": [
    "import numpy as np\n",
    "import pandas as pd"
   ]
  },
  {
   "cell_type": "code",
   "execution_count": 26,
   "metadata": {},
   "outputs": [],
   "source": [
    "def loading_data(data_file):\n",
    "    data_frame=pd.read_csv(data_file)\n",
    "    return data_frame"
   ]
  },
  {
   "cell_type": "code",
   "execution_count": 27,
   "metadata": {},
   "outputs": [],
   "source": [
    "def predict_y_score(dataFrame):\n",
    "    dataFrame['predicted_y'] = (dataFrame.proba >= 0.5).astype('int')\n",
    "    return dataFrame"
   ]
  },
  {
   "cell_type": "code",
   "execution_count": 28,
   "metadata": {},
   "outputs": [],
   "source": [
    "def find_confuse_matrix_parameter(y, y_score):\n",
    "    TP = sum((y == 1) & (y_score == 1))\n",
    "    FN = sum((y == 1) & (y_score == 0))\n",
    "    FP = sum((y == 0) & (y_score == 1))\n",
    "    TN = sum((y == 0) & (y_score == 0))\n",
    "    return TP, FN, FP, TN"
   ]
  },
  {
   "cell_type": "code",
   "execution_count": 29,
   "metadata": {},
   "outputs": [],
   "source": [
    "def confusion_matrix(y, y_score):\n",
    "    TP, FN, FP, TN = find_confuse_matrix_parameter(y, y_score)\n",
    "    return np.array([[TN, FP], [FN, TP]])"
   ]
  },
  {
   "cell_type": "code",
   "execution_count": 30,
   "metadata": {},
   "outputs": [],
   "source": [
    "def accuraccy_score(y, y_score):\n",
    "\n",
    "    TP, FN, FP, TN = find_confuse_matrix_parameter(y, y_score)\n",
    "    return ((TP + TN) / (TP + FN + FP + TN))"
   ]
  },
  {
   "cell_type": "code",
   "execution_count": 31,
   "metadata": {},
   "outputs": [],
   "source": [
    "def compute_f1_score(y,y_score):\n",
    "    TP,FN,FP,TN=find_confuse_matrix_parameter(y,y_score)\n",
    "    precision= TP/(TP+FP)\n",
    "    recall=TP/(TP+FN)\n",
    "    f1=(2*precision*recall)/(precision+recall)\n",
    "    return f1"
   ]
  },
  {
   "cell_type": "code",
   "execution_count": 32,
   "metadata": {},
   "outputs": [],
   "source": [
    "def calculate_A(y, y_score):\n",
    "    TP = sum((y == 1) & (y_score == 1))\n",
    "    FN = sum((y == 1) & (y_score == 0))\n",
    "    FP = sum((y == 0) & (y_score == 1))\n",
    "    TN = sum((y == 0) & (y_score == 0))\n",
    "    A = 500 * FN + 100 * FP\n",
    "    accuracy = ((TP + TN) / (TP + FN + FP + TN))\n",
    "    return A, accuracy"
   ]
  },
  {
   "cell_type": "code",
   "execution_count": 33,
   "metadata": {},
   "outputs": [],
   "source": [
    "import random\n",
    "\n",
    "import matplotlib.pyplot as plt\n",
    "\n",
    "\n",
    "def compute_auc_score(file_name):\n",
    "    data_frame = loading_data(file_name)\n",
    "    threashold_list = data_frame.proba.unique()\n",
    "    fpr = []\n",
    "    tpr = []\n",
    "\n",
    "    sorted_list = sorted(threashold_list, reverse=True)\n",
    "\n",
    "    for val in sorted_list:\n",
    "        data_frame['predicted_y'] = (data_frame.proba >= val).astype('int')\n",
    "        TP, FN, FP, TN = find_confuse_matrix_parameter(\n",
    "            data_frame['y'], data_frame['predicted_y'])\n",
    "        FPR = FP / (FP + TN)\n",
    "        TPR = TP / (TP + FN)\n",
    "\n",
    "        fpr.append(FPR)\n",
    "        tpr.append(TPR)\n",
    "\n",
    "    auc_score = np.trapz(tpr, fpr)\n",
    "\n",
    "    plt.plot(fpr, tpr, color='orange', label='ROC')\n",
    "    plt.plot([0, 1], [0, 1], color='darkblue', linestyle='--')\n",
    "    plt.xlabel('False Positive Rate')\n",
    "    plt.ylabel('True Positive Rate')\n",
    "    plt.title('Receiver Operating Characteristic (ROC) Curve')\n",
    "    plt.legend()\n",
    "    plt.show()\n",
    "\n",
    "    return auc_score"
   ]
  },
  {
   "cell_type": "code",
   "execution_count": 35,
   "metadata": {},
   "outputs": [],
   "source": [
    "def compute_performance_matrix(file_name):\n",
    "    data_frame = loading_data(file_name)\n",
    "\n",
    "    data_frame = predict_y_score(data_frame)\n",
    "    y, y_score = data_frame['y'], data_frame['predicted_y']\n",
    "    matrix = confusion_matrix(y, y_score)\n",
    "    acc_score = accuraccy_score(y, y_score)\n",
    "    f1_score = compute_f1_score(y, y_score)\n",
    "    auc_score=compute_auc_score(file_name)\n",
    "    print('confusion matrix \\n {} \\n for file {} '.format(matrix, file_name))\n",
    "    print('accurracy score  {}  for file {} '.format(acc_score, file_name))\n",
    "    print('F1 score  {}  for file {} '.format(f1_score, file_name))\n",
    "    print('AUC score  {}  for file {} '.format(auc_score, file_name))\n",
    "\n",
    "    print('*' * 100)"
   ]
  },
  {
   "cell_type": "markdown",
   "metadata": {},
   "source": [
    "# Compute performance matrix - A"
   ]
  },
  {
   "cell_type": "code",
   "execution_count": 36,
   "metadata": {},
   "outputs": [
    {
     "data": {
      "image/png": "[encoded data removed]",
      "text/plain": [
       "<Figure size 432x288 with 1 Axes>"
      ]
     },
     "metadata": {
      "needs_background": "light"
     },
     "output_type": "display_data"
    },
    {
     "name": "stdout",
     "output_type": "stream",
     "text": [
      "confusion matrix \n",
      " [[    0   100]\n",
      " [    0 10000]] \n",
      " for file 5_a.csv \n",
      "accurracy score  0.9900990099009901  for file 5_a.csv \n",
      "F1 score  0.9950248756218906  for file 5_a.csv \n",
      "AUC score  0.48829900000000004  for file 5_a.csv \n",
      "****************************************************************************************************\n"
     ]
    }
   ],
   "source": [
    "compute_performance_matrix('5_a.csv')"
   ]
  },
  {
   "cell_type": "markdown",
   "metadata": {},
   "source": [
    "# Compute performance matrix - B"
   ]
  },
  {
   "cell_type": "code",
   "execution_count": 37,
   "metadata": {},
   "outputs": [
    {
     "data": {
      "image/png": "[encoded data removed]",
      "text/plain": [
       "<Figure size 432x288 with 1 Axes>"
      ]
     },
     "metadata": {
      "needs_background": "light"
     },
     "output_type": "display_data"
    },
    {
     "name": "stdout",
     "output_type": "stream",
     "text": [
      "confusion matrix \n",
      " [[9761  239]\n",
      " [  45   55]] \n",
      " for file 5_b.csv \n",
      "accurracy score  0.9718811881188119  for file 5_b.csv \n",
      "F1 score  0.2791878172588833  for file 5_b.csv \n",
      "AUC score  0.9377570000000001  for file 5_b.csv \n",
      "****************************************************************************************************\n"
     ]
    }
   ],
   "source": [
    "compute_performance_matrix('5_b.csv')"
   ]
  },
  {
   "cell_type": "code",
   "execution_count": 38,
   "metadata": {},
   "outputs": [
    {
     "data": {
      "text/html": [
       "<div>\n",
       "<style scoped>\n",
       "    .dataframe tbody tr th:only-of-type {\n",
       "        vertical-align: middle;\n",
       "    }\n",
       "\n",
       "    .dataframe tbody tr th {\n",
       "        vertical-align: top;\n",
       "    }\n",
       "\n",
       "    .dataframe thead th {\n",
       "        text-align: right;\n",
       "    }\n",
       "</style>\n",
       "<table border=\"1\" class=\"dataframe\">\n",
       "  <thead>\n",
       "    <tr style=\"text-align: right;\">\n",
       "      <th></th>\n",
       "      <th>y</th>\n",
       "      <th>prob</th>\n",
       "    </tr>\n",
       "  </thead>\n",
       "  <tbody>\n",
       "    <tr>\n",
       "      <td>0</td>\n",
       "      <td>0</td>\n",
       "      <td>0.458521</td>\n",
       "    </tr>\n",
       "    <tr>\n",
       "      <td>1</td>\n",
       "      <td>0</td>\n",
       "      <td>0.505037</td>\n",
       "    </tr>\n",
       "    <tr>\n",
       "      <td>2</td>\n",
       "      <td>0</td>\n",
       "      <td>0.418652</td>\n",
       "    </tr>\n",
       "    <tr>\n",
       "      <td>3</td>\n",
       "      <td>0</td>\n",
       "      <td>0.412057</td>\n",
       "    </tr>\n",
       "    <tr>\n",
       "      <td>4</td>\n",
       "      <td>0</td>\n",
       "      <td>0.375579</td>\n",
       "    </tr>\n",
       "  </tbody>\n",
       "</table>\n",
       "</div>"
      ],
      "text/plain": [
       "   y      prob\n",
       "0  0  0.458521\n",
       "1  0  0.505037\n",
       "2  0  0.418652\n",
       "3  0  0.412057\n",
       "4  0  0.375579"
      ]
     },
     "execution_count": 38,
     "metadata": {},
     "output_type": "execute_result"
    }
   ],
   "source": [
    "df=loading_data('5_c.csv')\n",
    "df.head()"
   ]
  },
  {
   "cell_type": "code",
   "execution_count": 39,
   "metadata": {},
   "outputs": [],
   "source": [
    "def predict_y_score(dataFrame,threashold_value):\n",
    "    dataFrame['predicted_y'] = (dataFrame.prob >= threashold_value).astype('int')\n",
    "    return dataFrame"
   ]
  },
  {
   "cell_type": "markdown",
   "metadata": {},
   "source": [
    "# calculate threashold value- C"
   ]
  },
  {
   "cell_type": "code",
   "execution_count": 40,
   "metadata": {},
   "outputs": [],
   "source": [
    "import random\n",
    "\n",
    "\n",
    "def calculate_best_threashold_value():\n",
    "   \n",
    "    threashold_list=df.prob.unique()\n",
    "   \n",
    "    score = {}\n",
    "    fpr=[]\n",
    "    tpr=[]\n",
    "    acc = {}\n",
    "    for val in threashold_list:\n",
    "        predict_y_score(df, val)\n",
    "        A, accuracy = calculate_A(df['y'], df['predicted_y'])\n",
    "        score[val] = A\n",
    "        acc[val] = accuracy\n",
    "        TP, FN, FP, TN = find_confuse_matrix_parameter(\n",
    "            df['y'], df['predicted_y'])\n",
    "        FPR = FP / (FP + TN)\n",
    "        TPR = TP / (TP + FN)\n",
    "        \n",
    "        fpr.append(FPR)\n",
    "        tpr.append(TPR)\n",
    "    best_threashold_value = min(score.items(), key=lambda x: x[1])\n",
    "    auc1 = np.trapz(tpr, fpr)\n",
    "    print(auc1)\n",
    "    return best_threashold_value\n"
   ]
  },
  {
   "cell_type": "raw",
   "metadata": {},
   "source": [
    "# verify threashold value "
   ]
  },
  {
   "cell_type": "code",
   "execution_count": 41,
   "metadata": {},
   "outputs": [
    {
     "name": "stdout",
     "output_type": "stream",
     "text": [
      "0.8798019403810418\n",
      "best threashold value is 0.2300390278970873 using A calculate method \n",
      "confusion matrix \n",
      " [[ 785 1020]\n",
      " [  78  969]] \n",
      " for file  \n",
      "accurracy score  0.615007012622721  for file  \n",
      "----------------------------------------------------------------------------------------------------\n"
     ]
    }
   ],
   "source": [
    "def verify_threashold_score():\n",
    "    best_threashold=calculate_best_threashold_value()\n",
    "    print('best threashold value is {} using A calculate method ' . format(best_threashold[0]))\n",
    "    data_frame = loading_data(\"5_c.csv\")\n",
    "    data_frame = predict_y_score(data_frame,best_threashold[0])\n",
    "\n",
    "    matrix = confusion_matrix(data_frame['y'], data_frame['predicted_y'])\n",
    "    acc_score = accuraccy_score(data_frame['y'], data_frame['predicted_y'])\n",
    "    print('confusion matrix \\n {} \\n for file  '.format(matrix))\n",
    "    print('accurracy score  {}  for file  '.format(acc_score))\n",
    "    print('-' * 100)\n",
    "    \n",
    "verify_threashold_score()"
   ]
  },
  {
   "cell_type": "raw",
   "metadata": {},
   "source": [
    "conclusion : For minimum value of 'A' accuracy is lower , If we calculate the threashold value using 'Accuarcy' method parameter then we get the best threashold as comapered to  calculate threashold value by  'A' method."
   ]
  },
  {
   "cell_type": "code",
   "execution_count": 42,
   "metadata": {},
   "outputs": [],
   "source": [
    "def calculate_mse():\n",
    "    data=loading_data('5_d.csv')\n",
    "    error = data['y'] - data['pred']\n",
    "    squared_error = error**2\n",
    "    addition=squared_error.sum()\n",
    "    size = len(data)\n",
    "    mean_square_error = addition / size\n",
    "    return mean_square_error,error,size"
   ]
  },
  {
   "cell_type": "markdown",
   "metadata": {},
   "source": [
    "# MSE - D"
   ]
  },
  {
   "cell_type": "code",
   "execution_count": 43,
   "metadata": {},
   "outputs": [
    {
     "name": "stdout",
     "output_type": "stream",
     "text": [
      "mean squared error is = 177.16569974554707\n"
     ]
    }
   ],
   "source": [
    "squared_err,error,data_size=calculate_mse()\n",
    "print('mean squared error is = {}'.format(squared_err))"
   ]
  },
  {
   "cell_type": "markdown",
   "metadata": {},
   "source": [
    "# MAPE - D"
   ]
  },
  {
   "cell_type": "code",
   "execution_count": 44,
   "metadata": {},
   "outputs": [
    {
     "name": "stdout",
     "output_type": "stream",
     "text": [
      "mape value is 12.912029940096867 \n"
     ]
    }
   ],
   "source": [
    "import sys\n",
    "\n",
    "\n",
    "def calculate_mape():\n",
    "\n",
    "    data = loading_data('5_d.csv')\n",
    "\n",
    "    y_values = data['y']\n",
    "    average_value = y_values.sum() / len(data)\n",
    "    error = y_values - data['pred']\n",
    "\n",
    "    abs_sum = (np.abs(error / average_value)).sum()\n",
    "\n",
    "    mape = abs_sum / len(data) * 100\n",
    "    return mape\n",
    "\n",
    "\n",
    "mape_value = calculate_mape()\n",
    "\n",
    "print('mape value is {} '.format(mape_value))"
   ]
  },
  {
   "cell_type": "markdown",
   "metadata": {},
   "source": [
    "# R2 LOSS"
   ]
  },
  {
   "cell_type": "code",
   "execution_count": 45,
   "metadata": {},
   "outputs": [
    {
     "name": "stdout",
     "output_type": "stream",
     "text": [
      "r square loss is 0.9563582786990937 \n"
     ]
    }
   ],
   "source": [
    "def calculate_r():\n",
    "    data = loading_data('5_d.csv')\n",
    "    size = len(data)\n",
    "    mean_y = ((data['y']).sum()) / size\n",
    "\n",
    "    total_sum_of_square = ((data['y'] - mean_y)**2).sum()\n",
    "    total_sum_of_residues = ((data['y'] - data['pred'])**2).sum()\n",
    "\n",
    "    r = 1 - (total_sum_of_residues / total_sum_of_square)\n",
    "    return r\n",
    "\n",
    "\n",
    "r_square_loss = calculate_r()\n",
    "\n",
    "print('r square loss is {} '.format(r_square_loss))"
   ]
  }
 ],
 "metadata": {
  "kernelspec": {
   "display_name": "Python 3",
   "language": "python",
   "name": "python3"
  },
  "language_info": {
   "codemirror_mode": {
    "name": "ipython",
    "version": 3
   },
   "file_extension": ".py",
   "mimetype": "text/x-python",
   "name": "python",
   "nbconvert_exporter": "python",
   "pygments_lexer": "ipython3",
   "version": "3.6.8"
  },
  "varInspector": {
   "cols": {
    "lenName": 16,
    "lenType": 16,
    "lenVar": 40
   },
   "kernels_config": {
    "python": {
     "delete_cmd_postfix": "",
     "delete_cmd_prefix": "del ",
     "library": "var_list.py",
     "varRefreshCmd": "print(var_dic_list())"
    },
    "r": {
     "delete_cmd_postfix": ") ",
     "delete_cmd_prefix": "rm(",
     "library": "var_list.r",
     "varRefreshCmd": "cat(var_dic_list()) "
    }
   },
   "types_to_exclude": [
    "module",
    "function",
    "builtin_function_or_method",
    "instance",
    "_Feature"
   ],
   "window_display": false
  }
 },
 "nbformat": 4,
 "nbformat_minor": 2
}
